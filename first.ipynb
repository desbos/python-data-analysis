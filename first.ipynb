{
 "cells": [
  {
   "cell_type": "raw",
   "id": "c8841362-6a29-4dbe-b44d-3af103c3a9b2",
   "metadata": {},
   "source": [
    "the formular for force is F = Mass x Acceleration (F = m x a)\n"
   ]
  },
  {
   "cell_type": "code",
   "execution_count": 2,
   "id": "a6b42b7b-d1be-4013-8ad9-0a66ae00a88b",
   "metadata": {},
   "outputs": [
    {
     "name": "stdout",
     "output_type": "stream",
     "text": [
      "200\n"
     ]
    }
   ],
   "source": [
    "mass = 20 \n",
    "acceleration = 10\n",
    "force = mass * acceleration\n",
    "print(force)"
   ]
  },
  {
   "cell_type": "code",
   "execution_count": 4,
   "id": "9dd49ef5-f9c7-46e1-811e-aed72a205c18",
   "metadata": {},
   "outputs": [
    {
     "name": "stdout",
     "output_type": "stream",
     "text": [
      "the force is big\n"
     ]
    }
   ],
   "source": [
    "f = force\n",
    "m = mass\n",
    "a = acceleration\n",
    "if (f >= 200):\n",
    "    print ('the force is big')\n",
    "else:\n",
    "    print ('the force is small')"
   ]
  },
  {
   "cell_type": "code",
   "execution_count": 13,
   "id": "6a0d08a1-6c3f-43af-952b-6867a28bdab8",
   "metadata": {},
   "outputs": [
    {
     "name": "stdout",
     "output_type": "stream",
     "text": [
      "10.0\n"
     ]
    }
   ],
   "source": [
    "power = 70 / 7\n",
    "print (power)"
   ]
  },
  {
   "cell_type": "code",
   "execution_count": 2,
   "id": "3d96f4bd-711d-423e-83dd-e0eb729a90b0",
   "metadata": {},
   "outputs": [
    {
     "name": "stdout",
     "output_type": "stream",
     "text": [
      "4\n"
     ]
    }
   ],
   "source": [
    "def power(a,b):\n",
    "    power = a ** b\n",
    "    print (power)\n",
    "\n",
    "\n",
    "power(2,2)"
   ]
  },
  {
   "cell_type": "code",
   "execution_count": 1,
   "id": "4fcce371-533d-4a44-a72f-64592b4506fd",
   "metadata": {},
   "outputs": [],
   "source": [
    "item = False\n",
    "while item == True:\n",
    "    print (item)\n",
    "\n"
   ]
  },
  {
   "cell_type": "code",
   "execution_count": 22,
   "id": "6e06871e-7fc5-4e61-bdcf-e1763cb12ae8",
   "metadata": {},
   "outputs": [
    {
     "name": "stdout",
     "output_type": "stream",
     "text": [
      "34\n"
     ]
    }
   ],
   "source": [
    "import numpy as np\n",
    "ln = np.array([2,3,5])\n",
    "bh = np.array([4,2,4])\n",
    "prd = np.dot(ln,bh)\n",
    "print(prd)"
   ]
  },
  {
   "cell_type": "markdown",
   "id": "8a28ef1f-bd9a-47ca-bca1-f3b7b8b567af",
   "metadata": {},
   "source": [
    "prd2 = (ln * bh).sum()\n",
    "print(prd2)"
   ]
  },
  {
   "cell_type": "code",
   "execution_count": 36,
   "id": "a81447fd-5bfe-4ef9-a2f7-2c346b7b479b",
   "metadata": {},
   "outputs": [
    {
     "data": {
      "text/plain": [
       "(5, 3)"
      ]
     },
     "execution_count": 36,
     "metadata": {},
     "output_type": "execute_result"
    }
   ],
   "source": [
    "cmt_dt = np.array([[75,67,43],\n",
    "                [91,88,64],\n",
    "                [87,134,58],\n",
    "                [102,43,37],\n",
    "                [69,96,70]])\n",
    "cmt_dt.shape"
   ]
  },
  {
   "cell_type": "code",
   "execution_count": 30,
   "id": "820ea7b2-ae3b-4d90-b5fd-74905b327bed",
   "metadata": {},
   "outputs": [
    {
     "data": {
      "text/plain": [
       "array([2, 3, 5])"
      ]
     },
     "execution_count": 30,
     "metadata": {},
     "output_type": "execute_result"
    }
   ],
   "source": [
    "ln"
   ]
  },
  {
   "cell_type": "code",
   "execution_count": 34,
   "id": "62ca288a-ebeb-4862-a0eb-afbf037f784e",
   "metadata": {},
   "outputs": [
    {
     "data": {
      "text/plain": [
       "array([566., 766., 866., 518., 776.])"
      ]
     },
     "execution_count": 34,
     "metadata": {},
     "output_type": "execute_result"
    }
   ],
   "source": [
    "np.matmul(cmt_dt,ln)"
   ]
  },
  {
   "cell_type": "code",
   "execution_count": 35,
   "id": "1736b2ce-5012-437f-961a-07021e36e187",
   "metadata": {},
   "outputs": [
    {
     "data": {
      "text/plain": [
       "array([566., 766., 866., 518., 776.])"
      ]
     },
     "execution_count": 35,
     "metadata": {},
     "output_type": "execute_result"
    }
   ],
   "source": [
    "cmt_dt @ ln"
   ]
  },
  {
   "cell_type": "code",
   "execution_count": 37,
   "id": "758b0c62-dbd2-48bd-94b6-3555ec55bc00",
   "metadata": {},
   "outputs": [
    {
     "data": {
      "text/plain": [
       "array([[150, 201, 215],\n",
       "       [182, 264, 320],\n",
       "       [174, 402, 290],\n",
       "       [204, 129, 185],\n",
       "       [138, 288, 350]])"
      ]
     },
     "execution_count": 37,
     "metadata": {},
     "output_type": "execute_result"
    }
   ],
   "source": [
    "cmt_dt * ln"
   ]
  },
  {
   "cell_type": "code",
   "execution_count": null,
   "id": "7f9b344c-78c0-4c2d-bd2b-ae8258055656",
   "metadata": {},
   "outputs": [],
   "source": []
  }
 ],
 "metadata": {
  "kernelspec": {
   "display_name": "Python 3 (ipykernel)",
   "language": "python",
   "name": "python3"
  },
  "language_info": {
   "codemirror_mode": {
    "name": "ipython",
    "version": 3
   },
   "file_extension": ".py",
   "mimetype": "text/x-python",
   "name": "python",
   "nbconvert_exporter": "python",
   "pygments_lexer": "ipython3",
   "version": "3.12.3"
  }
 },
 "nbformat": 4,
 "nbformat_minor": 5
}
